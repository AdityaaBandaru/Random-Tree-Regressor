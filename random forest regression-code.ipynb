{
  "nbformat": 4,
  "nbformat_minor": 0,
  "metadata": {
    "colab": {
      "provenance": []
    },
    "kernelspec": {
      "name": "python3",
      "display_name": "Python 3"
    }
  },
  "cells": [
    {
      "cell_type": "code",
      "source": [
        "import pandas as pd\n",
        "import matplotlib.pyplot as plt\n",
        "import numpy as np\n",
        "\n",
        "dataset = pd.read_csv(\"Position_Salaries_with_Missing.csv\")\n",
        "X = dataset.iloc[:, 1:2].values\n",
        "y = dataset.iloc[:, -1].values\n",
        "y = y.reshape(-1,1)\n",
        "\n",
        "from sklearn.impute import SimpleImputer\n",
        "imputer = SimpleImputer(missing_values=np.nan, strategy='mean')\n",
        "y = imputer.fit_transform(y)\n",
        "\n",
        "from sklearn.ensemble import RandomForestRegressor\n",
        "regressor = RandomForestRegressor(n_estimators= 10, random_state= 0)\n",
        "regressor.fit(X,y)\n",
        "regressor.predict([[6.5]])\n",
        "\n",
        "X_grid = np.arange(min(X), max(X), 0.01)\n",
        "X_grid = X_grid.reshape((len(X_grid), 1))\n",
        "plt.scatter(X, y, color = 'red')\n",
        "plt.plot(X_grid, regressor.predict(X_grid), color = 'blue')\n",
        "plt.title('Truth or Bluff (Random Forest Regression)')\n",
        "plt.xlabel('Position level')\n",
        "plt.ylabel('Salary')\n",
        "plt.show()\n",
        "\n"
      ],
      "metadata": {
        "id": "UUi80mYgWXo9"
      },
      "execution_count": 10,
      "outputs": []
    }
  ]
}